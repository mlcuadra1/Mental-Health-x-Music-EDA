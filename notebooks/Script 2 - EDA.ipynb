{
 "cells": [
  {
   "cell_type": "markdown",
   "metadata": {},
   "source": [
    "# Exploratory Data Analysis"
   ]
  },
  {
   "cell_type": "markdown",
   "metadata": {},
   "source": [
    "The main objectives for this notebook are:\n",
    "- Perform univariate analysis\n",
    "- Investigate the relationships between features\n",
    "- Highlight insights that can inform the stakeholders' decisions\n",
    "- Go through the next steps that will be used in feature engineering and machine learning"
   ]
  },
  {
   "cell_type": "code",
   "execution_count": 77,
   "metadata": {},
   "outputs": [],
   "source": [
    "# Import libraries\n",
    "import numpy as np\n",
    "import matplotlib.pyplot as plt\n",
    "import seaborn as sns\n",
    "import pandas as pd\n",
    "import datetime as dt"
   ]
  },
  {
   "cell_type": "code",
   "execution_count": null,
   "metadata": {},
   "outputs": [],
   "source": [
    "# data = pd.read_csv('../data/coffee_cleaned.csv')\n",
    "# # Add a column for day (of month)\n",
    "# data['day'] = pd.to_datetime(data['transaction_date']).dt.day\n",
    "# data.head()"
   ]
  },
  {
   "cell_type": "code",
   "execution_count": 79,
   "metadata": {},
   "outputs": [
    {
     "data": {
      "text/plain": [
       "(149116, 13)"
      ]
     },
     "execution_count": 79,
     "metadata": {},
     "output_type": "execute_result"
    }
   ],
   "source": [
    "data.shape"
   ]
  },
  {
   "cell_type": "code",
   "execution_count": 80,
   "metadata": {},
   "outputs": [
    {
     "name": "stdout",
     "output_type": "stream",
     "text": [
      "<class 'pandas.core.frame.DataFrame'>\n",
      "RangeIndex: 149116 entries, 0 to 149115\n",
      "Data columns (total 13 columns):\n",
      " #   Column            Non-Null Count   Dtype  \n",
      "---  ------            --------------   -----  \n",
      " 0   transaction_date  149116 non-null  object \n",
      " 1   store_location    149116 non-null  object \n",
      " 2   transaction_qty   149116 non-null  int64  \n",
      " 3   unit_price        149116 non-null  float64\n",
      " 4   Total_Bill        149116 non-null  float64\n",
      " 5   product_category  149116 non-null  object \n",
      " 6   product_type      149116 non-null  object \n",
      " 7   product_detail    149116 non-null  object \n",
      " 8   Size              149116 non-null  object \n",
      " 9   Month Name        149116 non-null  object \n",
      " 10  Day Name          149116 non-null  object \n",
      " 11  Hour              149116 non-null  int64  \n",
      " 12  day               149116 non-null  int32  \n",
      "dtypes: float64(2), int32(1), int64(2), object(8)\n",
      "memory usage: 14.2+ MB\n"
     ]
    }
   ],
   "source": [
    "data.info()"
   ]
  },
  {
   "cell_type": "code",
   "execution_count": 81,
   "metadata": {},
   "outputs": [
    {
     "data": {
      "text/plain": [
       "transaction_date    0\n",
       "store_location      0\n",
       "transaction_qty     0\n",
       "unit_price          0\n",
       "Total_Bill          0\n",
       "product_category    0\n",
       "product_type        0\n",
       "product_detail      0\n",
       "Size                0\n",
       "Month Name          0\n",
       "Day Name            0\n",
       "Hour                0\n",
       "day                 0\n",
       "dtype: int64"
      ]
     },
     "execution_count": 81,
     "metadata": {},
     "output_type": "execute_result"
    }
   ],
   "source": [
    "data.isna().sum()"
   ]
  },
  {
   "cell_type": "code",
   "execution_count": 82,
   "metadata": {},
   "outputs": [],
   "source": [
    "# Predefine figsize\n",
    "figsize1_1 = (8, 6)\n",
    "figsize1_2 = (16, 5)"
   ]
  }
 ],
 "metadata": {
  "kernelspec": {
   "display_name": "Python 3",
   "language": "python",
   "name": "python3"
  },
  "language_info": {
   "codemirror_mode": {
    "name": "ipython",
    "version": 3
   },
   "file_extension": ".py",
   "mimetype": "text/x-python",
   "name": "python",
   "nbconvert_exporter": "python",
   "pygments_lexer": "ipython3",
   "version": "3.11.1"
  }
 },
 "nbformat": 4,
 "nbformat_minor": 2
}
